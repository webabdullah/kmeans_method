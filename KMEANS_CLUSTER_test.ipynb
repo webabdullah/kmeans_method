{
  "cells": [
    {
      "cell_type": "code",
      "execution_count": null,
      "id": "92d0a2fb",
      "metadata": {
        "id": "92d0a2fb"
      },
      "outputs": [],
      "source": [
        "# Library untuk dataframe dan visualisasi\n",
        "import numpy as np\n",
        "import pandas as pd\n",
        "import matplotlib.pyplot as plt\n",
        "import seaborn as sns; sns.set() \n",
        "%matplotlib inline\n",
        "# Import library untuk Clustering\n",
        "import sklearn\n",
        "from sklearn.cluster import KMeans\n",
        "from sklearn.metrics import silhouette_samples, silhouette_score"
      ]
    },
    {
      "cell_type": "code",
      "execution_count": null,
      "id": "b5289f78",
      "metadata": {
        "id": "b5289f78"
      },
      "outputs": [],
      "source": [
        "data = pd.read_csv('dataset_rev_02.csv',sep=\";\")"
      ]
    },
    {
      "cell_type": "code",
      "execution_count": null,
      "id": "OmMGzmrW0Q33",
      "metadata": {
        "colab": {
          "base_uri": "https://localhost:8080/",
          "height": 357
        },
        "id": "OmMGzmrW0Q33",
        "outputId": "a96a4b3d-317a-4b0a-dc96-c9fe9bbe58a5"
      },
      "outputs": [
        {
          "output_type": "execute_result",
          "data": {
            "text/plain": [
              "   NO  #            Address        SSID          Channel  Head_Channel  \\\n",
              "0   1  0  08:55:31:5C:F9:7C     test123    5110/20-Ce/an          5110   \n",
              "1   2  1  E0:63:DA:D4:F8:CC         NaN  5110/20-eeCe/ac          5110   \n",
              "2   3  2  2C:C8:1B:40:C6:F5      SERSER    5125/20-Ce/an          5125   \n",
              "3   4  3  74:83:C2:5C:84:F6    ubnt cpp       5150/20/an          5150   \n",
              "4   5  4  08:55:31:87:B5:6C  NYANYA 120       5150/20/an          5150   \n",
              "\n",
              "   Signal_Strength  Noise_Floor  Signal_To_Noise      Radio_Name  \\\n",
              "0              -76         -115               39    0855315CF97C   \n",
              "1              -59         -115               56             NaN   \n",
              "2              -66         -115               49    2CC81B40C6F5   \n",
              "3              -59         -114               55  Tasya Media Ne   \n",
              "4              -86         -114               28    08553187B56C   \n",
              "\n",
              "  RouterOS_Version  \n",
              "0           6.49.6  \n",
              "1              NaN  \n",
              "2           6.46.8  \n",
              "3           2.9.31  \n",
              "4              NaN  "
            ],
            "text/html": [
              "\n",
              "  <div id=\"df-780c2c4d-e0ca-489d-8c04-c42ea3f0ca80\">\n",
              "    <div class=\"colab-df-container\">\n",
              "      <div>\n",
              "<style scoped>\n",
              "    .dataframe tbody tr th:only-of-type {\n",
              "        vertical-align: middle;\n",
              "    }\n",
              "\n",
              "    .dataframe tbody tr th {\n",
              "        vertical-align: top;\n",
              "    }\n",
              "\n",
              "    .dataframe thead th {\n",
              "        text-align: right;\n",
              "    }\n",
              "</style>\n",
              "<table border=\"1\" class=\"dataframe\">\n",
              "  <thead>\n",
              "    <tr style=\"text-align: right;\">\n",
              "      <th></th>\n",
              "      <th>NO</th>\n",
              "      <th>#</th>\n",
              "      <th>Address</th>\n",
              "      <th>SSID</th>\n",
              "      <th>Channel</th>\n",
              "      <th>Head_Channel</th>\n",
              "      <th>Signal_Strength</th>\n",
              "      <th>Noise_Floor</th>\n",
              "      <th>Signal_To_Noise</th>\n",
              "      <th>Radio_Name</th>\n",
              "      <th>RouterOS_Version</th>\n",
              "    </tr>\n",
              "  </thead>\n",
              "  <tbody>\n",
              "    <tr>\n",
              "      <th>0</th>\n",
              "      <td>1</td>\n",
              "      <td>0</td>\n",
              "      <td>08:55:31:5C:F9:7C</td>\n",
              "      <td>test123</td>\n",
              "      <td>5110/20-Ce/an</td>\n",
              "      <td>5110</td>\n",
              "      <td>-76</td>\n",
              "      <td>-115</td>\n",
              "      <td>39</td>\n",
              "      <td>0855315CF97C</td>\n",
              "      <td>6.49.6</td>\n",
              "    </tr>\n",
              "    <tr>\n",
              "      <th>1</th>\n",
              "      <td>2</td>\n",
              "      <td>1</td>\n",
              "      <td>E0:63:DA:D4:F8:CC</td>\n",
              "      <td>NaN</td>\n",
              "      <td>5110/20-eeCe/ac</td>\n",
              "      <td>5110</td>\n",
              "      <td>-59</td>\n",
              "      <td>-115</td>\n",
              "      <td>56</td>\n",
              "      <td>NaN</td>\n",
              "      <td>NaN</td>\n",
              "    </tr>\n",
              "    <tr>\n",
              "      <th>2</th>\n",
              "      <td>3</td>\n",
              "      <td>2</td>\n",
              "      <td>2C:C8:1B:40:C6:F5</td>\n",
              "      <td>SERSER</td>\n",
              "      <td>5125/20-Ce/an</td>\n",
              "      <td>5125</td>\n",
              "      <td>-66</td>\n",
              "      <td>-115</td>\n",
              "      <td>49</td>\n",
              "      <td>2CC81B40C6F5</td>\n",
              "      <td>6.46.8</td>\n",
              "    </tr>\n",
              "    <tr>\n",
              "      <th>3</th>\n",
              "      <td>4</td>\n",
              "      <td>3</td>\n",
              "      <td>74:83:C2:5C:84:F6</td>\n",
              "      <td>ubnt cpp</td>\n",
              "      <td>5150/20/an</td>\n",
              "      <td>5150</td>\n",
              "      <td>-59</td>\n",
              "      <td>-114</td>\n",
              "      <td>55</td>\n",
              "      <td>Tasya Media Ne</td>\n",
              "      <td>2.9.31</td>\n",
              "    </tr>\n",
              "    <tr>\n",
              "      <th>4</th>\n",
              "      <td>5</td>\n",
              "      <td>4</td>\n",
              "      <td>08:55:31:87:B5:6C</td>\n",
              "      <td>NYANYA 120</td>\n",
              "      <td>5150/20/an</td>\n",
              "      <td>5150</td>\n",
              "      <td>-86</td>\n",
              "      <td>-114</td>\n",
              "      <td>28</td>\n",
              "      <td>08553187B56C</td>\n",
              "      <td>NaN</td>\n",
              "    </tr>\n",
              "  </tbody>\n",
              "</table>\n",
              "</div>\n",
              "      <button class=\"colab-df-convert\" onclick=\"convertToInteractive('df-780c2c4d-e0ca-489d-8c04-c42ea3f0ca80')\"\n",
              "              title=\"Convert this dataframe to an interactive table.\"\n",
              "              style=\"display:none;\">\n",
              "        \n",
              "  <svg xmlns=\"http://www.w3.org/2000/svg\" height=\"24px\"viewBox=\"0 0 24 24\"\n",
              "       width=\"24px\">\n",
              "    <path d=\"M0 0h24v24H0V0z\" fill=\"none\"/>\n",
              "    <path d=\"M18.56 5.44l.94 2.06.94-2.06 2.06-.94-2.06-.94-.94-2.06-.94 2.06-2.06.94zm-11 1L8.5 8.5l.94-2.06 2.06-.94-2.06-.94L8.5 2.5l-.94 2.06-2.06.94zm10 10l.94 2.06.94-2.06 2.06-.94-2.06-.94-.94-2.06-.94 2.06-2.06.94z\"/><path d=\"M17.41 7.96l-1.37-1.37c-.4-.4-.92-.59-1.43-.59-.52 0-1.04.2-1.43.59L10.3 9.45l-7.72 7.72c-.78.78-.78 2.05 0 2.83L4 21.41c.39.39.9.59 1.41.59.51 0 1.02-.2 1.41-.59l7.78-7.78 2.81-2.81c.8-.78.8-2.07 0-2.86zM5.41 20L4 18.59l7.72-7.72 1.47 1.35L5.41 20z\"/>\n",
              "  </svg>\n",
              "      </button>\n",
              "      \n",
              "  <style>\n",
              "    .colab-df-container {\n",
              "      display:flex;\n",
              "      flex-wrap:wrap;\n",
              "      gap: 12px;\n",
              "    }\n",
              "\n",
              "    .colab-df-convert {\n",
              "      background-color: #E8F0FE;\n",
              "      border: none;\n",
              "      border-radius: 50%;\n",
              "      cursor: pointer;\n",
              "      display: none;\n",
              "      fill: #1967D2;\n",
              "      height: 32px;\n",
              "      padding: 0 0 0 0;\n",
              "      width: 32px;\n",
              "    }\n",
              "\n",
              "    .colab-df-convert:hover {\n",
              "      background-color: #E2EBFA;\n",
              "      box-shadow: 0px 1px 2px rgba(60, 64, 67, 0.3), 0px 1px 3px 1px rgba(60, 64, 67, 0.15);\n",
              "      fill: #174EA6;\n",
              "    }\n",
              "\n",
              "    [theme=dark] .colab-df-convert {\n",
              "      background-color: #3B4455;\n",
              "      fill: #D2E3FC;\n",
              "    }\n",
              "\n",
              "    [theme=dark] .colab-df-convert:hover {\n",
              "      background-color: #434B5C;\n",
              "      box-shadow: 0px 1px 3px 1px rgba(0, 0, 0, 0.15);\n",
              "      filter: drop-shadow(0px 1px 2px rgba(0, 0, 0, 0.3));\n",
              "      fill: #FFFFFF;\n",
              "    }\n",
              "  </style>\n",
              "\n",
              "      <script>\n",
              "        const buttonEl =\n",
              "          document.querySelector('#df-780c2c4d-e0ca-489d-8c04-c42ea3f0ca80 button.colab-df-convert');\n",
              "        buttonEl.style.display =\n",
              "          google.colab.kernel.accessAllowed ? 'block' : 'none';\n",
              "\n",
              "        async function convertToInteractive(key) {\n",
              "          const element = document.querySelector('#df-780c2c4d-e0ca-489d-8c04-c42ea3f0ca80');\n",
              "          const dataTable =\n",
              "            await google.colab.kernel.invokeFunction('convertToInteractive',\n",
              "                                                     [key], {});\n",
              "          if (!dataTable) return;\n",
              "\n",
              "          const docLinkHtml = 'Like what you see? Visit the ' +\n",
              "            '<a target=\"_blank\" href=https://colab.research.google.com/notebooks/data_table.ipynb>data table notebook</a>'\n",
              "            + ' to learn more about interactive tables.';\n",
              "          element.innerHTML = '';\n",
              "          dataTable['output_type'] = 'display_data';\n",
              "          await google.colab.output.renderOutput(dataTable, element);\n",
              "          const docLink = document.createElement('div');\n",
              "          docLink.innerHTML = docLinkHtml;\n",
              "          element.appendChild(docLink);\n",
              "        }\n",
              "      </script>\n",
              "    </div>\n",
              "  </div>\n",
              "  "
            ]
          },
          "metadata": {},
          "execution_count": 115
        }
      ],
      "source": [
        "data.head()"
      ]
    },
    {
      "cell_type": "code",
      "execution_count": null,
      "id": "f6c08c1c",
      "metadata": {
        "colab": {
          "base_uri": "https://localhost:8080/"
        },
        "id": "f6c08c1c",
        "outputId": "8fdacad2-07b2-462b-c590-23232588d9a5"
      },
      "outputs": [
        {
          "output_type": "execute_result",
          "data": {
            "text/plain": [
              "NO                  False\n",
              "#                   False\n",
              "Address             False\n",
              "SSID                 True\n",
              "Channel             False\n",
              "Head_Channel        False\n",
              "Signal_Strength     False\n",
              "Noise_Floor         False\n",
              "Signal_To_Noise     False\n",
              "Radio_Name           True\n",
              "RouterOS_Version     True\n",
              "dtype: bool"
            ]
          },
          "metadata": {},
          "execution_count": 116
        }
      ],
      "source": [
        "data.isnull().any()"
      ]
    },
    {
      "cell_type": "code",
      "execution_count": null,
      "id": "6jzHC6mbWZju",
      "metadata": {
        "id": "6jzHC6mbWZju",
        "colab": {
          "base_uri": "https://localhost:8080/",
          "height": 661
        },
        "outputId": "cef896b5-dceb-4aa4-9bed-86acedd8726a"
      },
      "outputs": [
        {
          "output_type": "execute_result",
          "data": {
            "text/plain": [
              "      NO    #            Address                SSID          Channel  \\\n",
              "0      1    0  08:55:31:5C:F9:7C             test123    5110/20-Ce/an   \n",
              "1      2    1  E0:63:DA:D4:F8:CC                 NaN  5110/20-eeCe/ac   \n",
              "2      3    2  2C:C8:1B:40:C6:F5              SERSER    5125/20-Ce/an   \n",
              "3      4    3  74:83:C2:5C:84:F6            ubnt cpp       5150/20/an   \n",
              "4      5    4  08:55:31:87:B5:6C          NYANYA 120       5150/20/an   \n",
              "..   ...  ...                ...                 ...              ...   \n",
              "451  559  169  08:55:31:0B:4F:BD                AP72       5360/20/an   \n",
              "452  561  170  74:4D:28:E7:F6:A7         i-ACCESS-5G    5220/20-eC/ac   \n",
              "453  562  171  C4:AD:34:9B:27:DD         i-ACCESS-5G    5300/20-eC/ac   \n",
              "454  563  172  C4:AD:34:8B:28:C4  SPEEDNET TO RAMPOK       5535/20/an   \n",
              "455  565  173  B8:69:F4:C7:25:6F          LINK-LHG02    5550/20-Ce/an   \n",
              "\n",
              "     Head_Channel  Signal_Strength  Noise_Floor  Signal_To_Noise  \\\n",
              "0            5110              -76         -115               39   \n",
              "1            5110              -59         -115               56   \n",
              "2            5125              -66         -115               49   \n",
              "3            5150              -59         -114               55   \n",
              "4            5150              -86         -114               28   \n",
              "..            ...              ...          ...              ...   \n",
              "451          5360              -91         -114               23   \n",
              "452          5220              -88         -113               25   \n",
              "453          5300              -86         -113               27   \n",
              "454          5535              -90         -115               25   \n",
              "455          5550              -83         -116               33   \n",
              "\n",
              "           Radio_Name RouterOS_Version  \n",
              "0        0855315CF97C           6.49.6  \n",
              "1                 NaN              NaN  \n",
              "2        2CC81B40C6F5           6.46.8  \n",
              "3      Tasya Media Ne           2.9.31  \n",
              "4        08553187B56C              NaN  \n",
              "..                ...              ...  \n",
              "451         AP GASPOL           6.45.9  \n",
              "452        METAL-52AC            7.1.5  \n",
              "453           MANTBOX           6.48.6  \n",
              "454  SPEEDNET PENDAWA           6.45.9  \n",
              "455            AP UPA              NaN  \n",
              "\n",
              "[456 rows x 11 columns]"
            ],
            "text/html": [
              "\n",
              "  <div id=\"df-b06cba2b-2409-44f4-b4c0-d6ebdf3f4075\">\n",
              "    <div class=\"colab-df-container\">\n",
              "      <div>\n",
              "<style scoped>\n",
              "    .dataframe tbody tr th:only-of-type {\n",
              "        vertical-align: middle;\n",
              "    }\n",
              "\n",
              "    .dataframe tbody tr th {\n",
              "        vertical-align: top;\n",
              "    }\n",
              "\n",
              "    .dataframe thead th {\n",
              "        text-align: right;\n",
              "    }\n",
              "</style>\n",
              "<table border=\"1\" class=\"dataframe\">\n",
              "  <thead>\n",
              "    <tr style=\"text-align: right;\">\n",
              "      <th></th>\n",
              "      <th>NO</th>\n",
              "      <th>#</th>\n",
              "      <th>Address</th>\n",
              "      <th>SSID</th>\n",
              "      <th>Channel</th>\n",
              "      <th>Head_Channel</th>\n",
              "      <th>Signal_Strength</th>\n",
              "      <th>Noise_Floor</th>\n",
              "      <th>Signal_To_Noise</th>\n",
              "      <th>Radio_Name</th>\n",
              "      <th>RouterOS_Version</th>\n",
              "    </tr>\n",
              "  </thead>\n",
              "  <tbody>\n",
              "    <tr>\n",
              "      <th>0</th>\n",
              "      <td>1</td>\n",
              "      <td>0</td>\n",
              "      <td>08:55:31:5C:F9:7C</td>\n",
              "      <td>test123</td>\n",
              "      <td>5110/20-Ce/an</td>\n",
              "      <td>5110</td>\n",
              "      <td>-76</td>\n",
              "      <td>-115</td>\n",
              "      <td>39</td>\n",
              "      <td>0855315CF97C</td>\n",
              "      <td>6.49.6</td>\n",
              "    </tr>\n",
              "    <tr>\n",
              "      <th>1</th>\n",
              "      <td>2</td>\n",
              "      <td>1</td>\n",
              "      <td>E0:63:DA:D4:F8:CC</td>\n",
              "      <td>NaN</td>\n",
              "      <td>5110/20-eeCe/ac</td>\n",
              "      <td>5110</td>\n",
              "      <td>-59</td>\n",
              "      <td>-115</td>\n",
              "      <td>56</td>\n",
              "      <td>NaN</td>\n",
              "      <td>NaN</td>\n",
              "    </tr>\n",
              "    <tr>\n",
              "      <th>2</th>\n",
              "      <td>3</td>\n",
              "      <td>2</td>\n",
              "      <td>2C:C8:1B:40:C6:F5</td>\n",
              "      <td>SERSER</td>\n",
              "      <td>5125/20-Ce/an</td>\n",
              "      <td>5125</td>\n",
              "      <td>-66</td>\n",
              "      <td>-115</td>\n",
              "      <td>49</td>\n",
              "      <td>2CC81B40C6F5</td>\n",
              "      <td>6.46.8</td>\n",
              "    </tr>\n",
              "    <tr>\n",
              "      <th>3</th>\n",
              "      <td>4</td>\n",
              "      <td>3</td>\n",
              "      <td>74:83:C2:5C:84:F6</td>\n",
              "      <td>ubnt cpp</td>\n",
              "      <td>5150/20/an</td>\n",
              "      <td>5150</td>\n",
              "      <td>-59</td>\n",
              "      <td>-114</td>\n",
              "      <td>55</td>\n",
              "      <td>Tasya Media Ne</td>\n",
              "      <td>2.9.31</td>\n",
              "    </tr>\n",
              "    <tr>\n",
              "      <th>4</th>\n",
              "      <td>5</td>\n",
              "      <td>4</td>\n",
              "      <td>08:55:31:87:B5:6C</td>\n",
              "      <td>NYANYA 120</td>\n",
              "      <td>5150/20/an</td>\n",
              "      <td>5150</td>\n",
              "      <td>-86</td>\n",
              "      <td>-114</td>\n",
              "      <td>28</td>\n",
              "      <td>08553187B56C</td>\n",
              "      <td>NaN</td>\n",
              "    </tr>\n",
              "    <tr>\n",
              "      <th>...</th>\n",
              "      <td>...</td>\n",
              "      <td>...</td>\n",
              "      <td>...</td>\n",
              "      <td>...</td>\n",
              "      <td>...</td>\n",
              "      <td>...</td>\n",
              "      <td>...</td>\n",
              "      <td>...</td>\n",
              "      <td>...</td>\n",
              "      <td>...</td>\n",
              "      <td>...</td>\n",
              "    </tr>\n",
              "    <tr>\n",
              "      <th>451</th>\n",
              "      <td>559</td>\n",
              "      <td>169</td>\n",
              "      <td>08:55:31:0B:4F:BD</td>\n",
              "      <td>AP72</td>\n",
              "      <td>5360/20/an</td>\n",
              "      <td>5360</td>\n",
              "      <td>-91</td>\n",
              "      <td>-114</td>\n",
              "      <td>23</td>\n",
              "      <td>AP GASPOL</td>\n",
              "      <td>6.45.9</td>\n",
              "    </tr>\n",
              "    <tr>\n",
              "      <th>452</th>\n",
              "      <td>561</td>\n",
              "      <td>170</td>\n",
              "      <td>74:4D:28:E7:F6:A7</td>\n",
              "      <td>i-ACCESS-5G</td>\n",
              "      <td>5220/20-eC/ac</td>\n",
              "      <td>5220</td>\n",
              "      <td>-88</td>\n",
              "      <td>-113</td>\n",
              "      <td>25</td>\n",
              "      <td>METAL-52AC</td>\n",
              "      <td>7.1.5</td>\n",
              "    </tr>\n",
              "    <tr>\n",
              "      <th>453</th>\n",
              "      <td>562</td>\n",
              "      <td>171</td>\n",
              "      <td>C4:AD:34:9B:27:DD</td>\n",
              "      <td>i-ACCESS-5G</td>\n",
              "      <td>5300/20-eC/ac</td>\n",
              "      <td>5300</td>\n",
              "      <td>-86</td>\n",
              "      <td>-113</td>\n",
              "      <td>27</td>\n",
              "      <td>MANTBOX</td>\n",
              "      <td>6.48.6</td>\n",
              "    </tr>\n",
              "    <tr>\n",
              "      <th>454</th>\n",
              "      <td>563</td>\n",
              "      <td>172</td>\n",
              "      <td>C4:AD:34:8B:28:C4</td>\n",
              "      <td>SPEEDNET TO RAMPOK</td>\n",
              "      <td>5535/20/an</td>\n",
              "      <td>5535</td>\n",
              "      <td>-90</td>\n",
              "      <td>-115</td>\n",
              "      <td>25</td>\n",
              "      <td>SPEEDNET PENDAWA</td>\n",
              "      <td>6.45.9</td>\n",
              "    </tr>\n",
              "    <tr>\n",
              "      <th>455</th>\n",
              "      <td>565</td>\n",
              "      <td>173</td>\n",
              "      <td>B8:69:F4:C7:25:6F</td>\n",
              "      <td>LINK-LHG02</td>\n",
              "      <td>5550/20-Ce/an</td>\n",
              "      <td>5550</td>\n",
              "      <td>-83</td>\n",
              "      <td>-116</td>\n",
              "      <td>33</td>\n",
              "      <td>AP UPA</td>\n",
              "      <td>NaN</td>\n",
              "    </tr>\n",
              "  </tbody>\n",
              "</table>\n",
              "<p>456 rows × 11 columns</p>\n",
              "</div>\n",
              "      <button class=\"colab-df-convert\" onclick=\"convertToInteractive('df-b06cba2b-2409-44f4-b4c0-d6ebdf3f4075')\"\n",
              "              title=\"Convert this dataframe to an interactive table.\"\n",
              "              style=\"display:none;\">\n",
              "        \n",
              "  <svg xmlns=\"http://www.w3.org/2000/svg\" height=\"24px\"viewBox=\"0 0 24 24\"\n",
              "       width=\"24px\">\n",
              "    <path d=\"M0 0h24v24H0V0z\" fill=\"none\"/>\n",
              "    <path d=\"M18.56 5.44l.94 2.06.94-2.06 2.06-.94-2.06-.94-.94-2.06-.94 2.06-2.06.94zm-11 1L8.5 8.5l.94-2.06 2.06-.94-2.06-.94L8.5 2.5l-.94 2.06-2.06.94zm10 10l.94 2.06.94-2.06 2.06-.94-2.06-.94-.94-2.06-.94 2.06-2.06.94z\"/><path d=\"M17.41 7.96l-1.37-1.37c-.4-.4-.92-.59-1.43-.59-.52 0-1.04.2-1.43.59L10.3 9.45l-7.72 7.72c-.78.78-.78 2.05 0 2.83L4 21.41c.39.39.9.59 1.41.59.51 0 1.02-.2 1.41-.59l7.78-7.78 2.81-2.81c.8-.78.8-2.07 0-2.86zM5.41 20L4 18.59l7.72-7.72 1.47 1.35L5.41 20z\"/>\n",
              "  </svg>\n",
              "      </button>\n",
              "      \n",
              "  <style>\n",
              "    .colab-df-container {\n",
              "      display:flex;\n",
              "      flex-wrap:wrap;\n",
              "      gap: 12px;\n",
              "    }\n",
              "\n",
              "    .colab-df-convert {\n",
              "      background-color: #E8F0FE;\n",
              "      border: none;\n",
              "      border-radius: 50%;\n",
              "      cursor: pointer;\n",
              "      display: none;\n",
              "      fill: #1967D2;\n",
              "      height: 32px;\n",
              "      padding: 0 0 0 0;\n",
              "      width: 32px;\n",
              "    }\n",
              "\n",
              "    .colab-df-convert:hover {\n",
              "      background-color: #E2EBFA;\n",
              "      box-shadow: 0px 1px 2px rgba(60, 64, 67, 0.3), 0px 1px 3px 1px rgba(60, 64, 67, 0.15);\n",
              "      fill: #174EA6;\n",
              "    }\n",
              "\n",
              "    [theme=dark] .colab-df-convert {\n",
              "      background-color: #3B4455;\n",
              "      fill: #D2E3FC;\n",
              "    }\n",
              "\n",
              "    [theme=dark] .colab-df-convert:hover {\n",
              "      background-color: #434B5C;\n",
              "      box-shadow: 0px 1px 3px 1px rgba(0, 0, 0, 0.15);\n",
              "      filter: drop-shadow(0px 1px 2px rgba(0, 0, 0, 0.3));\n",
              "      fill: #FFFFFF;\n",
              "    }\n",
              "  </style>\n",
              "\n",
              "      <script>\n",
              "        const buttonEl =\n",
              "          document.querySelector('#df-b06cba2b-2409-44f4-b4c0-d6ebdf3f4075 button.colab-df-convert');\n",
              "        buttonEl.style.display =\n",
              "          google.colab.kernel.accessAllowed ? 'block' : 'none';\n",
              "\n",
              "        async function convertToInteractive(key) {\n",
              "          const element = document.querySelector('#df-b06cba2b-2409-44f4-b4c0-d6ebdf3f4075');\n",
              "          const dataTable =\n",
              "            await google.colab.kernel.invokeFunction('convertToInteractive',\n",
              "                                                     [key], {});\n",
              "          if (!dataTable) return;\n",
              "\n",
              "          const docLinkHtml = 'Like what you see? Visit the ' +\n",
              "            '<a target=\"_blank\" href=https://colab.research.google.com/notebooks/data_table.ipynb>data table notebook</a>'\n",
              "            + ' to learn more about interactive tables.';\n",
              "          element.innerHTML = '';\n",
              "          dataTable['output_type'] = 'display_data';\n",
              "          await google.colab.output.renderOutput(dataTable, element);\n",
              "          const docLink = document.createElement('div');\n",
              "          docLink.innerHTML = docLinkHtml;\n",
              "          element.appendChild(docLink);\n",
              "        }\n",
              "      </script>\n",
              "    </div>\n",
              "  </div>\n",
              "  "
            ]
          },
          "metadata": {},
          "execution_count": 117
        }
      ],
      "source": [
        "data = data.drop_duplicates()\n",
        "data"
      ]
    },
    {
      "cell_type": "code",
      "execution_count": null,
      "id": "DB9Y7xvrpz4r",
      "metadata": {
        "colab": {
          "base_uri": "https://localhost:8080/",
          "height": 424
        },
        "id": "DB9Y7xvrpz4r",
        "outputId": "7ceaaa97-31c1-4543-d064-63a4e43a49cd"
      },
      "outputs": [
        {
          "output_type": "execute_result",
          "data": {
            "text/plain": [
              "      NO  Head_Channel  Signal_Strength  Noise_Floor  Signal_To_Noise\n",
              "0      1          5110              -76         -115               39\n",
              "1      2          5110              -59         -115               56\n",
              "2      3          5125              -66         -115               49\n",
              "3      4          5150              -59         -114               55\n",
              "4      5          5150              -86         -114               28\n",
              "..   ...           ...              ...          ...              ...\n",
              "451  559          5360              -91         -114               23\n",
              "452  561          5220              -88         -113               25\n",
              "453  562          5300              -86         -113               27\n",
              "454  563          5535              -90         -115               25\n",
              "455  565          5550              -83         -116               33\n",
              "\n",
              "[456 rows x 5 columns]"
            ],
            "text/html": [
              "\n",
              "  <div id=\"df-b3a6a006-fe67-4197-a2c5-6649e92b4efe\">\n",
              "    <div class=\"colab-df-container\">\n",
              "      <div>\n",
              "<style scoped>\n",
              "    .dataframe tbody tr th:only-of-type {\n",
              "        vertical-align: middle;\n",
              "    }\n",
              "\n",
              "    .dataframe tbody tr th {\n",
              "        vertical-align: top;\n",
              "    }\n",
              "\n",
              "    .dataframe thead th {\n",
              "        text-align: right;\n",
              "    }\n",
              "</style>\n",
              "<table border=\"1\" class=\"dataframe\">\n",
              "  <thead>\n",
              "    <tr style=\"text-align: right;\">\n",
              "      <th></th>\n",
              "      <th>NO</th>\n",
              "      <th>Head_Channel</th>\n",
              "      <th>Signal_Strength</th>\n",
              "      <th>Noise_Floor</th>\n",
              "      <th>Signal_To_Noise</th>\n",
              "    </tr>\n",
              "  </thead>\n",
              "  <tbody>\n",
              "    <tr>\n",
              "      <th>0</th>\n",
              "      <td>1</td>\n",
              "      <td>5110</td>\n",
              "      <td>-76</td>\n",
              "      <td>-115</td>\n",
              "      <td>39</td>\n",
              "    </tr>\n",
              "    <tr>\n",
              "      <th>1</th>\n",
              "      <td>2</td>\n",
              "      <td>5110</td>\n",
              "      <td>-59</td>\n",
              "      <td>-115</td>\n",
              "      <td>56</td>\n",
              "    </tr>\n",
              "    <tr>\n",
              "      <th>2</th>\n",
              "      <td>3</td>\n",
              "      <td>5125</td>\n",
              "      <td>-66</td>\n",
              "      <td>-115</td>\n",
              "      <td>49</td>\n",
              "    </tr>\n",
              "    <tr>\n",
              "      <th>3</th>\n",
              "      <td>4</td>\n",
              "      <td>5150</td>\n",
              "      <td>-59</td>\n",
              "      <td>-114</td>\n",
              "      <td>55</td>\n",
              "    </tr>\n",
              "    <tr>\n",
              "      <th>4</th>\n",
              "      <td>5</td>\n",
              "      <td>5150</td>\n",
              "      <td>-86</td>\n",
              "      <td>-114</td>\n",
              "      <td>28</td>\n",
              "    </tr>\n",
              "    <tr>\n",
              "      <th>...</th>\n",
              "      <td>...</td>\n",
              "      <td>...</td>\n",
              "      <td>...</td>\n",
              "      <td>...</td>\n",
              "      <td>...</td>\n",
              "    </tr>\n",
              "    <tr>\n",
              "      <th>451</th>\n",
              "      <td>559</td>\n",
              "      <td>5360</td>\n",
              "      <td>-91</td>\n",
              "      <td>-114</td>\n",
              "      <td>23</td>\n",
              "    </tr>\n",
              "    <tr>\n",
              "      <th>452</th>\n",
              "      <td>561</td>\n",
              "      <td>5220</td>\n",
              "      <td>-88</td>\n",
              "      <td>-113</td>\n",
              "      <td>25</td>\n",
              "    </tr>\n",
              "    <tr>\n",
              "      <th>453</th>\n",
              "      <td>562</td>\n",
              "      <td>5300</td>\n",
              "      <td>-86</td>\n",
              "      <td>-113</td>\n",
              "      <td>27</td>\n",
              "    </tr>\n",
              "    <tr>\n",
              "      <th>454</th>\n",
              "      <td>563</td>\n",
              "      <td>5535</td>\n",
              "      <td>-90</td>\n",
              "      <td>-115</td>\n",
              "      <td>25</td>\n",
              "    </tr>\n",
              "    <tr>\n",
              "      <th>455</th>\n",
              "      <td>565</td>\n",
              "      <td>5550</td>\n",
              "      <td>-83</td>\n",
              "      <td>-116</td>\n",
              "      <td>33</td>\n",
              "    </tr>\n",
              "  </tbody>\n",
              "</table>\n",
              "<p>456 rows × 5 columns</p>\n",
              "</div>\n",
              "      <button class=\"colab-df-convert\" onclick=\"convertToInteractive('df-b3a6a006-fe67-4197-a2c5-6649e92b4efe')\"\n",
              "              title=\"Convert this dataframe to an interactive table.\"\n",
              "              style=\"display:none;\">\n",
              "        \n",
              "  <svg xmlns=\"http://www.w3.org/2000/svg\" height=\"24px\"viewBox=\"0 0 24 24\"\n",
              "       width=\"24px\">\n",
              "    <path d=\"M0 0h24v24H0V0z\" fill=\"none\"/>\n",
              "    <path d=\"M18.56 5.44l.94 2.06.94-2.06 2.06-.94-2.06-.94-.94-2.06-.94 2.06-2.06.94zm-11 1L8.5 8.5l.94-2.06 2.06-.94-2.06-.94L8.5 2.5l-.94 2.06-2.06.94zm10 10l.94 2.06.94-2.06 2.06-.94-2.06-.94-.94-2.06-.94 2.06-2.06.94z\"/><path d=\"M17.41 7.96l-1.37-1.37c-.4-.4-.92-.59-1.43-.59-.52 0-1.04.2-1.43.59L10.3 9.45l-7.72 7.72c-.78.78-.78 2.05 0 2.83L4 21.41c.39.39.9.59 1.41.59.51 0 1.02-.2 1.41-.59l7.78-7.78 2.81-2.81c.8-.78.8-2.07 0-2.86zM5.41 20L4 18.59l7.72-7.72 1.47 1.35L5.41 20z\"/>\n",
              "  </svg>\n",
              "      </button>\n",
              "      \n",
              "  <style>\n",
              "    .colab-df-container {\n",
              "      display:flex;\n",
              "      flex-wrap:wrap;\n",
              "      gap: 12px;\n",
              "    }\n",
              "\n",
              "    .colab-df-convert {\n",
              "      background-color: #E8F0FE;\n",
              "      border: none;\n",
              "      border-radius: 50%;\n",
              "      cursor: pointer;\n",
              "      display: none;\n",
              "      fill: #1967D2;\n",
              "      height: 32px;\n",
              "      padding: 0 0 0 0;\n",
              "      width: 32px;\n",
              "    }\n",
              "\n",
              "    .colab-df-convert:hover {\n",
              "      background-color: #E2EBFA;\n",
              "      box-shadow: 0px 1px 2px rgba(60, 64, 67, 0.3), 0px 1px 3px 1px rgba(60, 64, 67, 0.15);\n",
              "      fill: #174EA6;\n",
              "    }\n",
              "\n",
              "    [theme=dark] .colab-df-convert {\n",
              "      background-color: #3B4455;\n",
              "      fill: #D2E3FC;\n",
              "    }\n",
              "\n",
              "    [theme=dark] .colab-df-convert:hover {\n",
              "      background-color: #434B5C;\n",
              "      box-shadow: 0px 1px 3px 1px rgba(0, 0, 0, 0.15);\n",
              "      filter: drop-shadow(0px 1px 2px rgba(0, 0, 0, 0.3));\n",
              "      fill: #FFFFFF;\n",
              "    }\n",
              "  </style>\n",
              "\n",
              "      <script>\n",
              "        const buttonEl =\n",
              "          document.querySelector('#df-b3a6a006-fe67-4197-a2c5-6649e92b4efe button.colab-df-convert');\n",
              "        buttonEl.style.display =\n",
              "          google.colab.kernel.accessAllowed ? 'block' : 'none';\n",
              "\n",
              "        async function convertToInteractive(key) {\n",
              "          const element = document.querySelector('#df-b3a6a006-fe67-4197-a2c5-6649e92b4efe');\n",
              "          const dataTable =\n",
              "            await google.colab.kernel.invokeFunction('convertToInteractive',\n",
              "                                                     [key], {});\n",
              "          if (!dataTable) return;\n",
              "\n",
              "          const docLinkHtml = 'Like what you see? Visit the ' +\n",
              "            '<a target=\"_blank\" href=https://colab.research.google.com/notebooks/data_table.ipynb>data table notebook</a>'\n",
              "            + ' to learn more about interactive tables.';\n",
              "          element.innerHTML = '';\n",
              "          dataTable['output_type'] = 'display_data';\n",
              "          await google.colab.output.renderOutput(dataTable, element);\n",
              "          const docLink = document.createElement('div');\n",
              "          docLink.innerHTML = docLinkHtml;\n",
              "          element.appendChild(docLink);\n",
              "        }\n",
              "      </script>\n",
              "    </div>\n",
              "  </div>\n",
              "  "
            ]
          },
          "metadata": {},
          "execution_count": 118
        }
      ],
      "source": [
        "# Hilangkan Variabel yang Tidak Perlu\n",
        "data = data.drop(['#','Address','SSID','Channel','Radio_Name','RouterOS_Version'], axis = 1)\n",
        "data"
      ]
    },
    {
      "cell_type": "code",
      "source": [
        "data.to_excel(\"drop_data.xlsx\", index=False) "
      ],
      "metadata": {
        "id": "Dhus6rrSAorg"
      },
      "id": "Dhus6rrSAorg",
      "execution_count": null,
      "outputs": []
    },
    {
      "cell_type": "code",
      "execution_count": null,
      "id": "07GCiRuONXF1",
      "metadata": {
        "colab": {
          "base_uri": "https://localhost:8080/"
        },
        "id": "07GCiRuONXF1",
        "outputId": "5c8f8147-f681-49e5-f9ed-75d33a7c96b7"
      },
      "outputs": [
        {
          "output_type": "execute_result",
          "data": {
            "text/plain": [
              "[]"
            ]
          },
          "metadata": {},
          "execution_count": 120
        }
      ],
      "source": [
        "# Memeriksa Kolom Non-Numerik\n",
        "cat_columns = data.columns[(data.dtypes =='object').values].tolist()\n",
        "cat_columns"
      ]
    },
    {
      "cell_type": "code",
      "execution_count": null,
      "id": "v8jg3LTJNeOc",
      "metadata": {
        "colab": {
          "base_uri": "https://localhost:8080/"
        },
        "id": "v8jg3LTJNeOc",
        "outputId": "a886fbfd-c39a-4c83-a00b-396671b27d13"
      },
      "outputs": [
        {
          "output_type": "execute_result",
          "data": {
            "text/plain": [
              "['NO', 'Head_Channel', 'Signal_Strength', 'Noise_Floor', 'Signal_To_Noise']"
            ]
          },
          "metadata": {},
          "execution_count": 121
        }
      ],
      "source": [
        "# Memeriksa Kolom Numerik\n",
        "data.columns[(data.dtypes !='object').values].tolist()"
      ]
    },
    {
      "cell_type": "code",
      "execution_count": null,
      "id": "7JV1sHCaNs7x",
      "metadata": {
        "colab": {
          "base_uri": "https://localhost:8080/"
        },
        "id": "7JV1sHCaNs7x",
        "outputId": "22b9ba5b-a4ed-4459-a839-4bc214b51871"
      },
      "outputs": [
        {
          "output_type": "execute_result",
          "data": {
            "text/plain": [
              "KMeans(max_iter=50, n_clusters=3)"
            ]
          },
          "metadata": {},
          "execution_count": 122
        }
      ],
      "source": [
        "kmeans = KMeans(n_clusters=3, max_iter=50)\n",
        "kmeans.fit(data)"
      ]
    },
    {
      "cell_type": "code",
      "execution_count": null,
      "id": "QsXdagptPkOV",
      "metadata": {
        "colab": {
          "base_uri": "https://localhost:8080/"
        },
        "id": "QsXdagptPkOV",
        "outputId": "da3ba1fc-38d2-4cdf-ec4b-14887c80f619"
      },
      "outputs": [
        {
          "output_type": "execute_result",
          "data": {
            "text/plain": [
              "array([2, 2, 2, 2, 2, 2, 2, 2, 2, 2, 2, 2, 2, 2, 2, 2, 2, 2, 2, 2, 2, 2,\n",
              "       2, 2, 2, 2, 2, 2, 2, 2, 2, 2, 2, 2, 2, 0, 0, 0, 0, 0, 0, 0, 0, 0,\n",
              "       0, 0, 0, 0, 0, 0, 2, 2, 2, 2, 2, 2, 2, 2, 2, 0, 2, 2, 2, 0, 0, 2,\n",
              "       2, 2, 2, 2, 0, 2, 0, 2, 2, 0, 2, 2, 2, 2, 0, 2, 2, 2, 2, 2, 2, 2,\n",
              "       0, 2, 2, 0, 2, 2, 2, 2, 2, 2, 0, 0, 2, 2, 2, 2, 2, 2, 2, 2, 2, 2,\n",
              "       2, 0, 2, 0, 0, 2, 2, 0, 2, 2, 2, 0, 0, 2, 2, 0, 2, 2, 2, 2, 2, 0,\n",
              "       2, 0, 0, 2, 2, 2, 0, 2, 0, 2, 0, 0, 0, 2, 2, 0, 0, 0, 2, 2, 0, 2,\n",
              "       0, 2, 2, 0, 2, 0, 2, 0, 0, 0, 2, 2, 2, 2, 0, 2, 0, 2, 0, 0, 2, 2,\n",
              "       2, 2, 2, 2, 2, 2, 2, 2, 2, 2, 2, 2, 2, 2, 2, 2, 2, 2, 2, 2, 2, 2,\n",
              "       0, 0, 0, 0, 2, 2, 2, 2, 2, 2, 2, 0, 0, 2, 2, 2, 2, 0, 2, 2, 2, 2,\n",
              "       2, 0, 0, 0, 2, 2, 2, 2, 2, 2, 0, 0, 2, 2, 0, 2, 0, 1, 2, 1, 1, 2,\n",
              "       1, 0, 0, 1, 1, 1, 1, 1, 1, 1, 1, 0, 0, 1, 0, 0, 1, 1, 1, 1, 0, 1,\n",
              "       1, 0, 1, 0, 0, 1, 1, 1, 0, 1, 1, 1, 0, 1, 1, 0, 1, 0, 1, 1, 1, 1,\n",
              "       1, 1, 1, 1, 1, 1, 1, 1, 1, 1, 1, 1, 1, 1, 1, 1, 1, 1, 1, 1, 1, 1,\n",
              "       1, 1, 1, 1, 1, 1, 1, 1, 1, 1, 1, 1, 0, 0, 0, 0, 0, 0, 0, 0, 0, 0,\n",
              "       0, 0, 0, 1, 1, 1, 1, 1, 0, 0, 0, 1, 1, 1, 1, 1, 1, 1, 1, 1, 1, 1,\n",
              "       1, 1, 1, 1, 1, 1, 0, 0, 1, 1, 1, 1, 0, 1, 1, 1, 1, 1, 0, 0, 1, 1,\n",
              "       1, 1, 1, 1, 1, 1, 1, 1, 1, 1, 0, 1, 1, 0, 1, 1, 1, 0, 1, 0, 0, 0,\n",
              "       0, 1, 0, 0, 0, 0, 1, 1, 1, 1, 0, 1, 1, 1, 1, 0, 1, 0, 1, 1, 1, 0,\n",
              "       1, 1, 1, 1, 1, 0, 1, 1, 0, 0, 1, 1, 1, 0, 0, 1, 0, 1, 1, 1, 1, 0,\n",
              "       1, 1, 0, 1, 1, 1, 0, 0, 1, 0, 0, 1, 1, 1, 1, 1], dtype=int32)"
            ]
          },
          "metadata": {},
          "execution_count": 123
        }
      ],
      "source": [
        "kmeans.labels_"
      ]
    },
    {
      "cell_type": "code",
      "execution_count": null,
      "id": "GAhXwwZBPnSc",
      "metadata": {
        "colab": {
          "base_uri": "https://localhost:8080/",
          "height": 296
        },
        "id": "GAhXwwZBPnSc",
        "outputId": "ab832fa5-9bed-40b1-dc41-f54a76eb604a"
      },
      "outputs": [
        {
          "output_type": "execute_result",
          "data": {
            "text/plain": [
              "[<matplotlib.lines.Line2D at 0x7fe80a299690>]"
            ]
          },
          "metadata": {},
          "execution_count": 124
        },
        {
          "output_type": "display_data",
          "data": {
            "text/plain": [
              "<Figure size 432x288 with 1 Axes>"
            ],
            "image/png": "[encoded data removed]"
          },
          "metadata": {
            "needs_background": "light"
          }
        }
      ],
      "source": [
        "# Elbow-curve/SSD\n",
        "ssd = []\n",
        "range_n_clusters = [1, 2, 3]\n",
        "for num_clusters in range_n_clusters:\n",
        "    kmeans = KMeans(n_clusters=num_clusters, max_iter=50)\n",
        "    kmeans.fit(data)\n",
        "    \n",
        "    ssd.append(kmeans.inertia_)\n",
        "    \n",
        "# plot the SSDs for each n_clusters\n",
        "plt.plot(ssd)"
      ]
    },
    {
      "cell_type": "code",
      "execution_count": null,
      "id": "QN364HgNPzSQ",
      "metadata": {
        "colab": {
          "base_uri": "https://localhost:8080/"
        },
        "id": "QN364HgNPzSQ",
        "outputId": "0a16fb6c-6646-4840-c15b-45df9eb3f4d5"
      },
      "outputs": [
        {
          "output_type": "stream",
          "name": "stdout",
          "text": [
            "For n_clusters=2, the silhouette score is 0.4286134444178901\n",
            "For n_clusters=3, the silhouette score is 0.4078468631049233\n",
            "For n_clusters=4, the silhouette score is 0.41520422613837016\n"
          ]
        }
      ],
      "source": [
        "# Silhouette Analysis\n",
        "range_n_clusters = [2, 3, 4]\n",
        "for num_clusters in range_n_clusters:\n",
        "    \n",
        "    # Initialise kmeans\n",
        "    kmeans = KMeans(n_clusters=num_clusters, max_iter=50)\n",
        "    kmeans.fit(data)\n",
        "    cluster_labels = kmeans.labels_\n",
        "    \n",
        "    # Silhouette Score\n",
        "    silhouette_avg = silhouette_score(data, cluster_labels)\n",
        "    print(\"For n_clusters={0}, the silhouette score is {1}\".format(num_clusters, silhouette_avg))"
      ]
    },
    {
      "cell_type": "code",
      "execution_count": null,
      "id": "HgxNjqUOP5N6",
      "metadata": {
        "colab": {
          "base_uri": "https://localhost:8080/"
        },
        "id": "HgxNjqUOP5N6",
        "outputId": "eafe14af-04bb-4a53-f6c5-eded651aedc2"
      },
      "outputs": [
        {
          "output_type": "execute_result",
          "data": {
            "text/plain": [
              "KMeans(max_iter=50, n_clusters=3)"
            ]
          },
          "metadata": {},
          "execution_count": 126
        }
      ],
      "source": [
        "# Final model with k=2\n",
        "kmeans = KMeans(n_clusters=3, max_iter=50)\n",
        "kmeans.fit(data)"
      ]
    },
    {
      "cell_type": "code",
      "execution_count": null,
      "id": "z_OjH9c9P9FU",
      "metadata": {
        "colab": {
          "base_uri": "https://localhost:8080/"
        },
        "id": "z_OjH9c9P9FU",
        "outputId": "2cb01adf-7e32-4a63-91ad-70c2af9d5849"
      },
      "outputs": [
        {
          "output_type": "execute_result",
          "data": {
            "text/plain": [
              "array([1, 1, 1, 1, 1, 1, 1, 1, 1, 1, 1, 1, 1, 1, 1, 1, 1, 1, 1, 1, 1, 1,\n",
              "       1, 1, 1, 1, 1, 1, 1, 1, 1, 1, 1, 1, 1, 2, 2, 2, 2, 2, 2, 2, 2, 2,\n",
              "       2, 2, 2, 2, 2, 2, 1, 1, 1, 1, 1, 1, 1, 1, 1, 2, 1, 1, 1, 2, 2, 1,\n",
              "       1, 1, 1, 1, 2, 1, 2, 1, 1, 2, 1, 1, 1, 1, 2, 1, 1, 1, 1, 1, 1, 1,\n",
              "       2, 1, 1, 2, 1, 1, 1, 1, 1, 1, 2, 2, 1, 1, 1, 1, 1, 1, 1, 1, 1, 1,\n",
              "       1, 2, 1, 2, 2, 1, 1, 2, 1, 1, 1, 2, 2, 1, 1, 2, 1, 1, 1, 1, 1, 2,\n",
              "       1, 2, 2, 1, 1, 1, 2, 1, 2, 1, 2, 2, 2, 1, 1, 2, 2, 2, 1, 1, 2, 1,\n",
              "       2, 1, 1, 2, 1, 2, 1, 2, 2, 2, 1, 1, 1, 1, 2, 1, 2, 1, 2, 2, 1, 1,\n",
              "       1, 1, 1, 1, 1, 1, 1, 1, 1, 1, 1, 1, 1, 1, 1, 1, 1, 1, 1, 1, 1, 1,\n",
              "       2, 2, 2, 2, 1, 1, 1, 1, 1, 1, 1, 2, 2, 1, 1, 1, 1, 2, 1, 1, 1, 1,\n",
              "       1, 2, 2, 2, 0, 1, 1, 1, 1, 0, 2, 2, 0, 1, 2, 1, 2, 0, 1, 0, 0, 1,\n",
              "       0, 2, 2, 0, 0, 0, 0, 0, 0, 0, 0, 2, 2, 0, 2, 2, 0, 0, 0, 0, 2, 0,\n",
              "       0, 2, 0, 2, 2, 0, 0, 0, 2, 0, 0, 0, 2, 0, 0, 2, 0, 2, 0, 0, 0, 0,\n",
              "       0, 0, 0, 0, 0, 0, 0, 0, 0, 0, 0, 0, 0, 0, 0, 0, 0, 0, 0, 0, 0, 0,\n",
              "       0, 0, 0, 0, 0, 0, 0, 0, 0, 0, 0, 0, 2, 2, 2, 2, 2, 2, 2, 2, 2, 2,\n",
              "       2, 2, 2, 0, 0, 0, 0, 0, 2, 2, 2, 0, 0, 0, 0, 0, 0, 0, 0, 0, 0, 0,\n",
              "       0, 0, 0, 0, 0, 0, 2, 2, 0, 0, 0, 0, 2, 0, 0, 0, 0, 0, 2, 2, 0, 0,\n",
              "       0, 0, 0, 0, 0, 0, 0, 0, 0, 0, 2, 0, 0, 2, 0, 0, 0, 2, 0, 2, 2, 2,\n",
              "       2, 0, 2, 2, 2, 2, 0, 0, 0, 0, 2, 0, 0, 0, 0, 2, 0, 2, 0, 0, 0, 2,\n",
              "       0, 0, 0, 0, 0, 2, 0, 0, 2, 2, 0, 0, 0, 2, 2, 0, 2, 0, 0, 0, 0, 2,\n",
              "       0, 0, 2, 0, 0, 0, 2, 2, 0, 2, 2, 0, 0, 0, 0, 0], dtype=int32)"
            ]
          },
          "metadata": {},
          "execution_count": 127
        }
      ],
      "source": [
        "kmeans.labels_"
      ]
    },
    {
      "cell_type": "code",
      "execution_count": null,
      "id": "u1eCr2DzQAV0",
      "metadata": {
        "colab": {
          "base_uri": "https://localhost:8080/",
          "height": 206
        },
        "id": "u1eCr2DzQAV0",
        "outputId": "7138b5da-be3f-41ed-e8f7-c934b6af4800"
      },
      "outputs": [
        {
          "output_type": "execute_result",
          "data": {
            "text/plain": [
              "   NO  Head_Channel  Signal_Strength  Noise_Floor  Signal_To_Noise  cluster\n",
              "0   1          5110              -76         -115               39        1\n",
              "1   2          5110              -59         -115               56        1\n",
              "2   3          5125              -66         -115               49        1\n",
              "3   4          5150              -59         -114               55        1\n",
              "4   5          5150              -86         -114               28        1"
            ],
            "text/html": [
              "\n",
              "  <div id=\"df-db41cb77-6b00-48cd-b853-41d35865ece3\">\n",
              "    <div class=\"colab-df-container\">\n",
              "      <div>\n",
              "<style scoped>\n",
              "    .dataframe tbody tr th:only-of-type {\n",
              "        vertical-align: middle;\n",
              "    }\n",
              "\n",
              "    .dataframe tbody tr th {\n",
              "        vertical-align: top;\n",
              "    }\n",
              "\n",
              "    .dataframe thead th {\n",
              "        text-align: right;\n",
              "    }\n",
              "</style>\n",
              "<table border=\"1\" class=\"dataframe\">\n",
              "  <thead>\n",
              "    <tr style=\"text-align: right;\">\n",
              "      <th></th>\n",
              "      <th>NO</th>\n",
              "      <th>Head_Channel</th>\n",
              "      <th>Signal_Strength</th>\n",
              "      <th>Noise_Floor</th>\n",
              "      <th>Signal_To_Noise</th>\n",
              "      <th>cluster</th>\n",
              "    </tr>\n",
              "  </thead>\n",
              "  <tbody>\n",
              "    <tr>\n",
              "      <th>0</th>\n",
              "      <td>1</td>\n",
              "      <td>5110</td>\n",
              "      <td>-76</td>\n",
              "      <td>-115</td>\n",
              "      <td>39</td>\n",
              "      <td>1</td>\n",
              "    </tr>\n",
              "    <tr>\n",
              "      <th>1</th>\n",
              "      <td>2</td>\n",
              "      <td>5110</td>\n",
              "      <td>-59</td>\n",
              "      <td>-115</td>\n",
              "      <td>56</td>\n",
              "      <td>1</td>\n",
              "    </tr>\n",
              "    <tr>\n",
              "      <th>2</th>\n",
              "      <td>3</td>\n",
              "      <td>5125</td>\n",
              "      <td>-66</td>\n",
              "      <td>-115</td>\n",
              "      <td>49</td>\n",
              "      <td>1</td>\n",
              "    </tr>\n",
              "    <tr>\n",
              "      <th>3</th>\n",
              "      <td>4</td>\n",
              "      <td>5150</td>\n",
              "      <td>-59</td>\n",
              "      <td>-114</td>\n",
              "      <td>55</td>\n",
              "      <td>1</td>\n",
              "    </tr>\n",
              "    <tr>\n",
              "      <th>4</th>\n",
              "      <td>5</td>\n",
              "      <td>5150</td>\n",
              "      <td>-86</td>\n",
              "      <td>-114</td>\n",
              "      <td>28</td>\n",
              "      <td>1</td>\n",
              "    </tr>\n",
              "  </tbody>\n",
              "</table>\n",
              "</div>\n",
              "      <button class=\"colab-df-convert\" onclick=\"convertToInteractive('df-db41cb77-6b00-48cd-b853-41d35865ece3')\"\n",
              "              title=\"Convert this dataframe to an interactive table.\"\n",
              "              style=\"display:none;\">\n",
              "        \n",
              "  <svg xmlns=\"http://www.w3.org/2000/svg\" height=\"24px\"viewBox=\"0 0 24 24\"\n",
              "       width=\"24px\">\n",
              "    <path d=\"M0 0h24v24H0V0z\" fill=\"none\"/>\n",
              "    <path d=\"M18.56 5.44l.94 2.06.94-2.06 2.06-.94-2.06-.94-.94-2.06-.94 2.06-2.06.94zm-11 1L8.5 8.5l.94-2.06 2.06-.94-2.06-.94L8.5 2.5l-.94 2.06-2.06.94zm10 10l.94 2.06.94-2.06 2.06-.94-2.06-.94-.94-2.06-.94 2.06-2.06.94z\"/><path d=\"M17.41 7.96l-1.37-1.37c-.4-.4-.92-.59-1.43-.59-.52 0-1.04.2-1.43.59L10.3 9.45l-7.72 7.72c-.78.78-.78 2.05 0 2.83L4 21.41c.39.39.9.59 1.41.59.51 0 1.02-.2 1.41-.59l7.78-7.78 2.81-2.81c.8-.78.8-2.07 0-2.86zM5.41 20L4 18.59l7.72-7.72 1.47 1.35L5.41 20z\"/>\n",
              "  </svg>\n",
              "      </button>\n",
              "      \n",
              "  <style>\n",
              "    .colab-df-container {\n",
              "      display:flex;\n",
              "      flex-wrap:wrap;\n",
              "      gap: 12px;\n",
              "    }\n",
              "\n",
              "    .colab-df-convert {\n",
              "      background-color: #E8F0FE;\n",
              "      border: none;\n",
              "      border-radius: 50%;\n",
              "      cursor: pointer;\n",
              "      display: none;\n",
              "      fill: #1967D2;\n",
              "      height: 32px;\n",
              "      padding: 0 0 0 0;\n",
              "      width: 32px;\n",
              "    }\n",
              "\n",
              "    .colab-df-convert:hover {\n",
              "      background-color: #E2EBFA;\n",
              "      box-shadow: 0px 1px 2px rgba(60, 64, 67, 0.3), 0px 1px 3px 1px rgba(60, 64, 67, 0.15);\n",
              "      fill: #174EA6;\n",
              "    }\n",
              "\n",
              "    [theme=dark] .colab-df-convert {\n",
              "      background-color: #3B4455;\n",
              "      fill: #D2E3FC;\n",
              "    }\n",
              "\n",
              "    [theme=dark] .colab-df-convert:hover {\n",
              "      background-color: #434B5C;\n",
              "      box-shadow: 0px 1px 3px 1px rgba(0, 0, 0, 0.15);\n",
              "      filter: drop-shadow(0px 1px 2px rgba(0, 0, 0, 0.3));\n",
              "      fill: #FFFFFF;\n",
              "    }\n",
              "  </style>\n",
              "\n",
              "      <script>\n",
              "        const buttonEl =\n",
              "          document.querySelector('#df-db41cb77-6b00-48cd-b853-41d35865ece3 button.colab-df-convert');\n",
              "        buttonEl.style.display =\n",
              "          google.colab.kernel.accessAllowed ? 'block' : 'none';\n",
              "\n",
              "        async function convertToInteractive(key) {\n",
              "          const element = document.querySelector('#df-db41cb77-6b00-48cd-b853-41d35865ece3');\n",
              "          const dataTable =\n",
              "            await google.colab.kernel.invokeFunction('convertToInteractive',\n",
              "                                                     [key], {});\n",
              "          if (!dataTable) return;\n",
              "\n",
              "          const docLinkHtml = 'Like what you see? Visit the ' +\n",
              "            '<a target=\"_blank\" href=https://colab.research.google.com/notebooks/data_table.ipynb>data table notebook</a>'\n",
              "            + ' to learn more about interactive tables.';\n",
              "          element.innerHTML = '';\n",
              "          dataTable['output_type'] = 'display_data';\n",
              "          await google.colab.output.renderOutput(dataTable, element);\n",
              "          const docLink = document.createElement('div');\n",
              "          docLink.innerHTML = docLinkHtml;\n",
              "          element.appendChild(docLink);\n",
              "        }\n",
              "      </script>\n",
              "    </div>\n",
              "  </div>\n",
              "  "
            ]
          },
          "metadata": {},
          "execution_count": 128
        }
      ],
      "source": [
        "# Assign the label\n",
        "data['cluster'] = kmeans.labels_\n",
        "data.head()"
      ]
    },
    {
      "cell_type": "code",
      "source": [
        "total_rows = data['Head_Channel'].count\n",
        "data"
      ],
      "metadata": {
        "colab": {
          "base_uri": "https://localhost:8080/",
          "height": 424
        },
        "id": "lGG-skjALUPF",
        "outputId": "1a298b60-bca6-4c01-a094-db0e2da12676"
      },
      "id": "lGG-skjALUPF",
      "execution_count": null,
      "outputs": [
        {
          "output_type": "execute_result",
          "data": {
            "text/plain": [
              "      NO  Head_Channel  Signal_Strength  Noise_Floor  Signal_To_Noise  cluster\n",
              "0      1          5110              -76         -115               39        1\n",
              "1      2          5110              -59         -115               56        1\n",
              "2      3          5125              -66         -115               49        1\n",
              "3      4          5150              -59         -114               55        1\n",
              "4      5          5150              -86         -114               28        1\n",
              "..   ...           ...              ...          ...              ...      ...\n",
              "451  559          5360              -91         -114               23        0\n",
              "452  561          5220              -88         -113               25        0\n",
              "453  562          5300              -86         -113               27        0\n",
              "454  563          5535              -90         -115               25        0\n",
              "455  565          5550              -83         -116               33        0\n",
              "\n",
              "[456 rows x 6 columns]"
            ],
            "text/html": [
              "\n",
              "  <div id=\"df-e2d675d2-0522-43c2-bbef-87acacda7dcb\">\n",
              "    <div class=\"colab-df-container\">\n",
              "      <div>\n",
              "<style scoped>\n",
              "    .dataframe tbody tr th:only-of-type {\n",
              "        vertical-align: middle;\n",
              "    }\n",
              "\n",
              "    .dataframe tbody tr th {\n",
              "        vertical-align: top;\n",
              "    }\n",
              "\n",
              "    .dataframe thead th {\n",
              "        text-align: right;\n",
              "    }\n",
              "</style>\n",
              "<table border=\"1\" class=\"dataframe\">\n",
              "  <thead>\n",
              "    <tr style=\"text-align: right;\">\n",
              "      <th></th>\n",
              "      <th>NO</th>\n",
              "      <th>Head_Channel</th>\n",
              "      <th>Signal_Strength</th>\n",
              "      <th>Noise_Floor</th>\n",
              "      <th>Signal_To_Noise</th>\n",
              "      <th>cluster</th>\n",
              "    </tr>\n",
              "  </thead>\n",
              "  <tbody>\n",
              "    <tr>\n",
              "      <th>0</th>\n",
              "      <td>1</td>\n",
              "      <td>5110</td>\n",
              "      <td>-76</td>\n",
              "      <td>-115</td>\n",
              "      <td>39</td>\n",
              "      <td>1</td>\n",
              "    </tr>\n",
              "    <tr>\n",
              "      <th>1</th>\n",
              "      <td>2</td>\n",
              "      <td>5110</td>\n",
              "      <td>-59</td>\n",
              "      <td>-115</td>\n",
              "      <td>56</td>\n",
              "      <td>1</td>\n",
              "    </tr>\n",
              "    <tr>\n",
              "      <th>2</th>\n",
              "      <td>3</td>\n",
              "      <td>5125</td>\n",
              "      <td>-66</td>\n",
              "      <td>-115</td>\n",
              "      <td>49</td>\n",
              "      <td>1</td>\n",
              "    </tr>\n",
              "    <tr>\n",
              "      <th>3</th>\n",
              "      <td>4</td>\n",
              "      <td>5150</td>\n",
              "      <td>-59</td>\n",
              "      <td>-114</td>\n",
              "      <td>55</td>\n",
              "      <td>1</td>\n",
              "    </tr>\n",
              "    <tr>\n",
              "      <th>4</th>\n",
              "      <td>5</td>\n",
              "      <td>5150</td>\n",
              "      <td>-86</td>\n",
              "      <td>-114</td>\n",
              "      <td>28</td>\n",
              "      <td>1</td>\n",
              "    </tr>\n",
              "    <tr>\n",
              "      <th>...</th>\n",
              "      <td>...</td>\n",
              "      <td>...</td>\n",
              "      <td>...</td>\n",
              "      <td>...</td>\n",
              "      <td>...</td>\n",
              "      <td>...</td>\n",
              "    </tr>\n",
              "    <tr>\n",
              "      <th>451</th>\n",
              "      <td>559</td>\n",
              "      <td>5360</td>\n",
              "      <td>-91</td>\n",
              "      <td>-114</td>\n",
              "      <td>23</td>\n",
              "      <td>0</td>\n",
              "    </tr>\n",
              "    <tr>\n",
              "      <th>452</th>\n",
              "      <td>561</td>\n",
              "      <td>5220</td>\n",
              "      <td>-88</td>\n",
              "      <td>-113</td>\n",
              "      <td>25</td>\n",
              "      <td>0</td>\n",
              "    </tr>\n",
              "    <tr>\n",
              "      <th>453</th>\n",
              "      <td>562</td>\n",
              "      <td>5300</td>\n",
              "      <td>-86</td>\n",
              "      <td>-113</td>\n",
              "      <td>27</td>\n",
              "      <td>0</td>\n",
              "    </tr>\n",
              "    <tr>\n",
              "      <th>454</th>\n",
              "      <td>563</td>\n",
              "      <td>5535</td>\n",
              "      <td>-90</td>\n",
              "      <td>-115</td>\n",
              "      <td>25</td>\n",
              "      <td>0</td>\n",
              "    </tr>\n",
              "    <tr>\n",
              "      <th>455</th>\n",
              "      <td>565</td>\n",
              "      <td>5550</td>\n",
              "      <td>-83</td>\n",
              "      <td>-116</td>\n",
              "      <td>33</td>\n",
              "      <td>0</td>\n",
              "    </tr>\n",
              "  </tbody>\n",
              "</table>\n",
              "<p>456 rows × 6 columns</p>\n",
              "</div>\n",
              "      <button class=\"colab-df-convert\" onclick=\"convertToInteractive('df-e2d675d2-0522-43c2-bbef-87acacda7dcb')\"\n",
              "              title=\"Convert this dataframe to an interactive table.\"\n",
              "              style=\"display:none;\">\n",
              "        \n",
              "  <svg xmlns=\"http://www.w3.org/2000/svg\" height=\"24px\"viewBox=\"0 0 24 24\"\n",
              "       width=\"24px\">\n",
              "    <path d=\"M0 0h24v24H0V0z\" fill=\"none\"/>\n",
              "    <path d=\"M18.56 5.44l.94 2.06.94-2.06 2.06-.94-2.06-.94-.94-2.06-.94 2.06-2.06.94zm-11 1L8.5 8.5l.94-2.06 2.06-.94-2.06-.94L8.5 2.5l-.94 2.06-2.06.94zm10 10l.94 2.06.94-2.06 2.06-.94-2.06-.94-.94-2.06-.94 2.06-2.06.94z\"/><path d=\"M17.41 7.96l-1.37-1.37c-.4-.4-.92-.59-1.43-.59-.52 0-1.04.2-1.43.59L10.3 9.45l-7.72 7.72c-.78.78-.78 2.05 0 2.83L4 21.41c.39.39.9.59 1.41.59.51 0 1.02-.2 1.41-.59l7.78-7.78 2.81-2.81c.8-.78.8-2.07 0-2.86zM5.41 20L4 18.59l7.72-7.72 1.47 1.35L5.41 20z\"/>\n",
              "  </svg>\n",
              "      </button>\n",
              "      \n",
              "  <style>\n",
              "    .colab-df-container {\n",
              "      display:flex;\n",
              "      flex-wrap:wrap;\n",
              "      gap: 12px;\n",
              "    }\n",
              "\n",
              "    .colab-df-convert {\n",
              "      background-color: #E8F0FE;\n",
              "      border: none;\n",
              "      border-radius: 50%;\n",
              "      cursor: pointer;\n",
              "      display: none;\n",
              "      fill: #1967D2;\n",
              "      height: 32px;\n",
              "      padding: 0 0 0 0;\n",
              "      width: 32px;\n",
              "    }\n",
              "\n",
              "    .colab-df-convert:hover {\n",
              "      background-color: #E2EBFA;\n",
              "      box-shadow: 0px 1px 2px rgba(60, 64, 67, 0.3), 0px 1px 3px 1px rgba(60, 64, 67, 0.15);\n",
              "      fill: #174EA6;\n",
              "    }\n",
              "\n",
              "    [theme=dark] .colab-df-convert {\n",
              "      background-color: #3B4455;\n",
              "      fill: #D2E3FC;\n",
              "    }\n",
              "\n",
              "    [theme=dark] .colab-df-convert:hover {\n",
              "      background-color: #434B5C;\n",
              "      box-shadow: 0px 1px 3px 1px rgba(0, 0, 0, 0.15);\n",
              "      filter: drop-shadow(0px 1px 2px rgba(0, 0, 0, 0.3));\n",
              "      fill: #FFFFFF;\n",
              "    }\n",
              "  </style>\n",
              "\n",
              "      <script>\n",
              "        const buttonEl =\n",
              "          document.querySelector('#df-e2d675d2-0522-43c2-bbef-87acacda7dcb button.colab-df-convert');\n",
              "        buttonEl.style.display =\n",
              "          google.colab.kernel.accessAllowed ? 'block' : 'none';\n",
              "\n",
              "        async function convertToInteractive(key) {\n",
              "          const element = document.querySelector('#df-e2d675d2-0522-43c2-bbef-87acacda7dcb');\n",
              "          const dataTable =\n",
              "            await google.colab.kernel.invokeFunction('convertToInteractive',\n",
              "                                                     [key], {});\n",
              "          if (!dataTable) return;\n",
              "\n",
              "          const docLinkHtml = 'Like what you see? Visit the ' +\n",
              "            '<a target=\"_blank\" href=https://colab.research.google.com/notebooks/data_table.ipynb>data table notebook</a>'\n",
              "            + ' to learn more about interactive tables.';\n",
              "          element.innerHTML = '';\n",
              "          dataTable['output_type'] = 'display_data';\n",
              "          await google.colab.output.renderOutput(dataTable, element);\n",
              "          const docLink = document.createElement('div');\n",
              "          docLink.innerHTML = docLinkHtml;\n",
              "          element.appendChild(docLink);\n",
              "        }\n",
              "      </script>\n",
              "    </div>\n",
              "  </div>\n",
              "  "
            ]
          },
          "metadata": {},
          "execution_count": 132
        }
      ]
    },
    {
      "cell_type": "code",
      "execution_count": null,
      "id": "h5Bnjn_43Gfg",
      "metadata": {
        "colab": {
          "base_uri": "https://localhost:8080/"
        },
        "id": "h5Bnjn_43Gfg",
        "outputId": "c37e4b51-a0ec-4fc2-ba77-d01caa04483a"
      },
      "outputs": [
        {
          "output_type": "execute_result",
          "data": {
            "text/plain": [
              "(456, 6)"
            ]
          },
          "metadata": {},
          "execution_count": 129
        }
      ],
      "source": [
        "data.shape"
      ]
    },
    {
      "cell_type": "code",
      "execution_count": null,
      "id": "ZtJFgv3oqNF5",
      "metadata": {
        "id": "ZtJFgv3oqNF5"
      },
      "outputs": [],
      "source": [
        "data = data.loc[:,~data.columns.duplicated('Channel')]"
      ]
    },
    {
      "cell_type": "code",
      "execution_count": null,
      "id": "oeXRJ7fJ2VWx",
      "metadata": {
        "id": "oeXRJ7fJ2VWx"
      },
      "outputs": [],
      "source": [
        "#data.to_csv(\"dataset-cluster.csv\", index=False)\n",
        "data.to_excel(\"cluster_data.xlsx\", index=False) "
      ]
    },
    {
      "cell_type": "code",
      "execution_count": null,
      "id": "0d02eb6a",
      "metadata": {
        "colab": {
          "base_uri": "https://localhost:8080/",
          "height": 482
        },
        "id": "0d02eb6a",
        "outputId": "01dc5b1a-8580-4703-dd68-2e75059bf8bd"
      },
      "outputs": [
        {
          "output_type": "display_data",
          "data": {
            "text/plain": [
              "<Figure size 576x576 with 1 Axes>"
            ],
            "image/png": "[encoded data removed]"
          },
          "metadata": {}
        }
      ],
      "source": [
        "# Grafik ini menunjukkan bahwa pengguna frekuensi berdasarkan cluster\n",
        "plt.figure(figsize = (8,8))\n",
        "plt.pie(data['cluster'].value_counts(), labels=data['cluster'].value_counts().index, autopct='%3.2f%%')\n",
        "plt.title('Grafik berdasarkan cluster')\n",
        "plt.legend()\n",
        "plt.show()"
      ]
    },
    {
      "cell_type": "code",
      "execution_count": null,
      "id": "elEM-8ISIhpj",
      "metadata": {
        "id": "elEM-8ISIhpj"
      },
      "outputs": [],
      "source": [
        "from sklearn.cluster import KMeans\n",
        "kmeans = KMeans(n_clusters= 3)\n",
        " \n",
        "#predict the labels of clusters.\n",
        "label = kmeans.fit_predict(data)"
      ]
    },
    {
      "cell_type": "code",
      "execution_count": null,
      "id": "0_IHO5p8Kfjg",
      "metadata": {
        "colab": {
          "base_uri": "https://localhost:8080/"
        },
        "id": "0_IHO5p8Kfjg",
        "outputId": "ca3314bd-1c2b-4e07-9fdb-3fcf7611cae7"
      },
      "outputs": [
        {
          "output_type": "stream",
          "name": "stdout",
          "text": [
            "[0 0 0 0 0 0 0 0 0 0 0 0 0 0 0 0 0 0 0 0 0 0 0 0 0 0 0 0 0 0 0 0 0 0 0 1 1\n",
            " 1 1 1 1 1 1 1 1 1 1 1 1 1 0 0 0 0 0 0 0 0 0 1 0 0 0 1 1 0 0 0 0 0 1 0 1 0\n",
            " 0 1 0 0 0 0 1 0 0 0 0 0 0 0 1 0 0 1 0 0 0 0 0 0 1 1 0 0 0 0 0 0 0 0 0 0 0\n",
            " 1 0 1 1 0 0 1 0 0 0 1 1 0 0 1 0 0 0 0 0 1 0 1 1 0 0 0 1 0 1 0 1 1 1 0 0 1\n",
            " 1 1 0 0 1 0 1 0 0 1 0 1 0 1 1 1 0 0 0 0 1 0 1 0 1 1 0 0 0 0 0 0 0 0 0 0 0\n",
            " 0 0 0 0 0 0 0 0 0 0 0 0 0 1 1 1 1 0 0 0 0 0 0 0 1 1 0 0 0 0 1 0 0 0 0 0 1\n",
            " 1 1 0 0 0 0 0 0 1 1 0 0 1 0 1 2 0 2 2 0 2 1 1 2 2 2 2 2 2 2 2 1 1 2 1 1 2\n",
            " 2 2 2 1 2 2 1 2 1 1 2 2 2 1 2 2 2 1 2 2 1 2 1 2 2 2 2 2 2 2 2 2 2 2 2 2 2\n",
            " 2 2 2 2 2 2 2 2 2 2 2 2 2 2 2 2 2 2 2 2 2 2 2 2 2 1 1 1 1 1 1 1 1 1 1 1 1\n",
            " 2 2 2 2 2 1 1 1 2 2 2 2 2 2 2 2 2 2 2 2 2 2 2 2 2 1 1 2 2 2 2 1 2 2 2 2 2\n",
            " 1 1 2 2 2 2 2 2 2 2 2 2 2 2 1 2 2 1 2 2 2 1 2 1 1 1 1 2 1 1 1 1 2 2 2 2 1\n",
            " 2 2 2 2 1 2 1 2 2 2 1 2 2 2 2 2 1 2 2 1 1 2 2 2 1 1 2 1 2 2 2 2 1 2 2 1 2\n",
            " 2 2 1 1 2 1 1 2 2 2 2 2]\n"
          ]
        }
      ],
      "source": [
        "print(label)"
      ]
    },
    {
      "cell_type": "code",
      "execution_count": null,
      "id": "88IQ5y8EL_I2",
      "metadata": {
        "id": "88IQ5y8EL_I2"
      },
      "outputs": [],
      "source": [
        "import matplotlib.pyplot as plt\n",
        " \n",
        "#filter rows of original data\n",
        "filtered_label2 = data[label == 0]\n",
        " \n",
        "filtered_label8 = data[label == 2]"
      ]
    },
    {
      "cell_type": "code",
      "execution_count": null,
      "id": "a333aff5",
      "metadata": {
        "colab": {
          "base_uri": "https://localhost:8080/",
          "height": 268
        },
        "id": "a333aff5",
        "outputId": "21e83596-3827-4121-ddc0-e8308580656c"
      },
      "outputs": [
        {
          "output_type": "display_data",
          "data": {
            "text/plain": [
              "<Figure size 432x288 with 1 Axes>"
            ],
            "image/png": "[encoded data removed]"
          },
          "metadata": {
            "needs_background": "light"
          }
        }
      ],
      "source": [
        "plt.scatter(data.Head_Channel , data.Signal_To_Noise, s =10, c = 'c', marker = 'o', alpha = 1)\n",
        "plt.show()"
      ]
    },
    {
      "cell_type": "code",
      "execution_count": null,
      "id": "c2a4bb89",
      "metadata": {
        "id": "c2a4bb89"
      },
      "outputs": [],
      "source": [
        "x_array = np.array(data)"
      ]
    },
    {
      "cell_type": "code",
      "execution_count": null,
      "id": "711a42bc",
      "metadata": {
        "colab": {
          "base_uri": "https://localhost:8080/"
        },
        "id": "711a42bc",
        "outputId": "e11e4441-250a-470f-e9f6-de49a67461bb"
      },
      "outputs": [
        {
          "output_type": "execute_result",
          "data": {
            "text/plain": [
              "array([[0.        , 0.10055866, 0.31034483, 0.72727273, 0.3442623 ,\n",
              "        0.        ],\n",
              "       [0.00177305, 0.10055866, 0.60344828, 0.72727273, 0.62295082,\n",
              "        0.        ],\n",
              "       [0.0035461 , 0.11731844, 0.48275862, 0.72727273, 0.50819672,\n",
              "        0.        ],\n",
              "       ...,\n",
              "       [0.99468085, 0.31284916, 0.13793103, 0.90909091, 0.14754098,\n",
              "        1.        ],\n",
              "       [0.9964539 , 0.57541899, 0.06896552, 0.72727273, 0.1147541 ,\n",
              "        1.        ],\n",
              "       [1.        , 0.59217877, 0.18965517, 0.63636364, 0.24590164,\n",
              "        1.        ]])"
            ]
          },
          "metadata": {},
          "execution_count": 107
        }
      ],
      "source": [
        "from sklearn.preprocessing import MinMaxScaler\n",
        "scaler = MinMaxScaler()\n",
        "x_scaled = scaler.fit_transform(x_array)\n",
        "x_scaled"
      ]
    },
    {
      "cell_type": "code",
      "execution_count": null,
      "id": "e2eedcd7",
      "metadata": {
        "colab": {
          "base_uri": "https://localhost:8080/"
        },
        "id": "e2eedcd7",
        "outputId": "c9522c9a-2d32-40f5-b44c-239a8e6595d1"
      },
      "outputs": [
        {
          "output_type": "execute_result",
          "data": {
            "text/plain": [
              "KMeans(n_clusters=3)"
            ]
          },
          "metadata": {},
          "execution_count": 108
        }
      ],
      "source": [
        "kmeans.fit(x_scaled)"
      ]
    },
    {
      "cell_type": "code",
      "execution_count": null,
      "id": "f7938283",
      "metadata": {
        "colab": {
          "base_uri": "https://localhost:8080/"
        },
        "id": "f7938283",
        "outputId": "a1f851c0-176c-422c-9ea8-cc8d9ab13362"
      },
      "outputs": [
        {
          "output_type": "stream",
          "name": "stdout",
          "text": [
            "[[ 7.22349403e-01  2.82335054e-01  1.11741598e-01  7.94016110e-01\n",
            "   1.43390745e-01  1.00000000e+00]\n",
            " [ 2.08211237e-01  3.21379587e-01  1.68800330e-01  7.68100163e-01\n",
            "   2.02316678e-01 -1.16573418e-15]\n",
            " [ 4.77505279e-01  7.58539810e-01  1.29639379e-01  4.44136017e-01\n",
            "   2.23501439e-01  5.00000000e-01]]\n"
          ]
        }
      ],
      "source": [
        "print(kmeans.cluster_centers_)"
      ]
    },
    {
      "cell_type": "code",
      "execution_count": null,
      "id": "cdb6aad7",
      "metadata": {
        "id": "cdb6aad7"
      },
      "outputs": [],
      "source": [
        "data['kluster'] = kmeans.labels_"
      ]
    },
    {
      "cell_type": "code",
      "execution_count": null,
      "id": "f9a70d40",
      "metadata": {
        "colab": {
          "base_uri": "https://localhost:8080/",
          "height": 284
        },
        "id": "f9a70d40",
        "outputId": "130417af-65b5-42ee-d88e-87d04165f233"
      },
      "outputs": [
        {
          "output_type": "display_data",
          "data": {
            "text/plain": [
              "<Figure size 432x288 with 2 Axes>"
            ],
            "image/png": "[encoded data removed]"
          },
          "metadata": {
            "needs_background": "light"
          }
        }
      ],
      "source": [
        "output = plt.scatter(x_scaled[:,0], x_scaled[:,1], s = 100, c = data.kluster, marker = 'o', alpha = 1, )\n",
        "centers = kmeans.cluster_centers_\n",
        "plt.scatter(centers[:,0], centers[:,1], c='blue', s=200, alpha=1 , marker='o');\n",
        "plt.title('Hasil Klustering K-Means')\n",
        "plt.colorbar (output)\n",
        "plt.show()"
      ]
    }
  ],
  "metadata": {
    "colab": {
      "collapsed_sections": [],
      "provenance": []
    },
    "kernelspec": {
      "display_name": "Python 3 (ipykernel)",
      "language": "python",
      "name": "python3"
    },
    "language_info": {
      "codemirror_mode": {
        "name": "ipython",
        "version": 3
      },
      "file_extension": ".py",
      "mimetype": "text/x-python",
      "name": "python",
      "nbconvert_exporter": "python",
      "pygments_lexer": "ipython3",
      "version": "3.10.7"
    }
  },
  "nbformat": 4,
  "nbformat_minor": 5
}